{
 "cells": [
  {
   "cell_type": "code",
   "execution_count": 22,
   "metadata": {},
   "outputs": [],
   "source": [
    "import csv\n",
    "import torch\n",
    "from utils import datasets"
   ]
  },
  {
   "cell_type": "code",
   "execution_count": 24,
   "metadata": {},
   "outputs": [],
   "source": [
    "path = './data/encode/'\n",
    "all_dataset_names = datasets(path)\n",
    "cols = ['TF_CellLine_Antibody_Lab','pool_type','neu_type','learning_steps','learning_rate','momentum','sigmaConv','dropprob','sigmaNeu','beta1','beta2','beta3']\n",
    "\n",
    "with open('./Hyperparameters/hyperparameters.csv', 'a') as csvfile:\n",
    "    writer = csv.DictWriter(csvfile, fieldnames = cols)\n",
    "    writer.writeheader()\n",
    "\n",
    "    for data_idx in range(len(all_dataset_names)):\n",
    "        \n",
    "        dataset_name = all_dataset_names[data_idx]\n",
    "        name = dataset_name[0].split(path)[1].split(\"_AC\")[0]\n",
    "\n",
    "        best_hyperparameters = torch.load('./Hyperparameters/' + name + '.pth')\n",
    "        best_hyperparameters['TF_CellLine_Antibody_Lab'] = name\n",
    "        \n",
    "        writer.writerows([best_hyperparameters])"
   ]
  },
  {
   "cell_type": "code",
   "execution_count": null,
   "metadata": {},
   "outputs": [],
   "source": []
  }
 ],
 "metadata": {
  "interpreter": {
   "hash": "84c63b404c7ee130c9845246a39403d500621500816a8f9744527cdc65d245ba"
  },
  "kernelspec": {
   "display_name": "Python 3.8.12 ('DeepBind': conda)",
   "language": "python",
   "name": "python3"
  },
  "language_info": {
   "codemirror_mode": {
    "name": "ipython",
    "version": 3
   },
   "file_extension": ".py",
   "mimetype": "text/x-python",
   "name": "python",
   "nbconvert_exporter": "python",
   "pygments_lexer": "ipython3",
   "version": "3.8.12"
  },
  "orig_nbformat": 4
 },
 "nbformat": 4,
 "nbformat_minor": 2
}
