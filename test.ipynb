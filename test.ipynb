{
 "cells": [
  {
   "cell_type": "code",
   "execution_count": 5,
   "metadata": {},
   "outputs": [],
   "source": [
    "pool_type = ['maxavg', 'max']\n",
    "hidden_layer_type = [True, False] # add one hidden layer or not\n",
    "dropout_rate_type = [0.2, 0.3, 0.4]\n",
    "lr_type = [0.001, 0.005, 0.01]\n",
    "scheduler_type = [True, False] # use Cosine Annealing or not\n",
    "opt_type = ['SGD', 'Adam'] # optimizer"
   ]
  },
  {
   "cell_type": "code",
   "execution_count": 6,
   "metadata": {},
   "outputs": [
    {
     "name": "stdout",
     "output_type": "stream",
     "text": [
      "maxavg True 0.2\n",
      "maxavg True 0.3\n",
      "maxavg True 0.4\n",
      "maxavg False 0.2\n",
      "maxavg False 0.3\n",
      "maxavg False 0.4\n",
      "max True 0.2\n",
      "max True 0.3\n",
      "max True 0.4\n",
      "max False 0.2\n",
      "max False 0.3\n",
      "max False 0.4\n"
     ]
    }
   ],
   "source": [
    "for i in range(12):\n",
    "    (share, remainder) = divmod(i, len(dropout_rate_type))\n",
    "    dropout_rate = dropout_rate_type[remainder]\n",
    "    (share, remainder) = divmod(share, len(hidden_layer_type))\n",
    "    hidden_layer = hidden_layer_type[remainder]\n",
    "    (share, remainder) = divmod(share, len(pool_type))\n",
    "    pooling = pool_type[remainder]\n",
    "    print(pooling, hidden_layer, dropout_rate)"
   ]
  },
  {
   "cell_type": "code",
   "execution_count": 6,
   "metadata": {},
   "outputs": [],
   "source": [
    "a = 7\n",
    "b = 3\n",
    "(share, remainder) = divmod(a,b)"
   ]
  },
  {
   "cell_type": "code",
   "execution_count": 4,
   "metadata": {},
   "outputs": [],
   "source": [
    "name = 'asdf'\n",
    "\n",
    "with open(\"./results/hyperparameter_experiments/\"+name+'.txt', \"a\") as file:\n",
    "    file.write('TF : ')\n",
    "    file.write(name)\n",
    "    file.write(\" - AUC Test : \")\n",
    "file.close()"
   ]
  },
  {
   "cell_type": "code",
   "execution_count": 20,
   "metadata": {},
   "outputs": [],
   "source": [
    "import torch"
   ]
  },
  {
   "cell_type": "code",
   "execution_count": 35,
   "metadata": {},
   "outputs": [
    {
     "name": "stdout",
     "output_type": "stream",
     "text": [
      "torch.Size([33, 1])\n"
     ]
    },
    {
     "data": {
      "text/plain": [
       "tensor([[ 0.0983],\n",
       "        [-2.6496],\n",
       "        [-1.3451],\n",
       "        [-0.7911],\n",
       "        [-1.6466],\n",
       "        [ 0.5343],\n",
       "        [-0.9837],\n",
       "        [ 1.5457],\n",
       "        [ 1.8328],\n",
       "        [ 1.6524],\n",
       "        [-0.4289],\n",
       "        [-0.2520],\n",
       "        [-0.9636],\n",
       "        [-0.7389],\n",
       "        [ 0.0792],\n",
       "        [ 0.1097],\n",
       "        [ 0.4058],\n",
       "        [ 2.4089],\n",
       "        [-0.6629],\n",
       "        [-0.4676],\n",
       "        [ 1.3670],\n",
       "        [-0.4338],\n",
       "        [-0.5098],\n",
       "        [-2.2858],\n",
       "        [-2.7613],\n",
       "        [ 1.2614],\n",
       "        [-0.7054],\n",
       "        [ 0.9729],\n",
       "        [ 1.5633],\n",
       "        [ 0.6913],\n",
       "        [ 0.2943],\n",
       "        [-0.4785],\n",
       "        [-0.4235]])"
      ]
     },
     "execution_count": 35,
     "metadata": {},
     "output_type": "execute_result"
    }
   ],
   "source": [
    "wNeu = torch.randn(33,1)\n",
    "print(wNeu.size())\n",
    "wNeu"
   ]
  },
  {
   "cell_type": "code",
   "execution_count": 36,
   "metadata": {},
   "outputs": [
    {
     "data": {
      "text/plain": [
       "tensor([[-0.2965],\n",
       "        [ 0.2922],\n",
       "        [ 0.2110],\n",
       "        [-0.4146],\n",
       "        [-0.3608],\n",
       "        [-0.1170],\n",
       "        [-0.1165],\n",
       "        [ 0.0375],\n",
       "        [-0.0476],\n",
       "        [-0.2089],\n",
       "        [-0.2579],\n",
       "        [ 0.3399],\n",
       "        [ 0.4025],\n",
       "        [-0.3378],\n",
       "        [-0.1743],\n",
       "        [-0.1877],\n",
       "        [ 0.2006],\n",
       "        [-0.1398],\n",
       "        [ 0.3025],\n",
       "        [-0.1040],\n",
       "        [ 0.3120],\n",
       "        [ 0.1359],\n",
       "        [ 0.1609],\n",
       "        [-0.2765],\n",
       "        [ 0.3999],\n",
       "        [ 0.0303],\n",
       "        [-0.1843],\n",
       "        [ 0.3718],\n",
       "        [-0.3237],\n",
       "        [-0.1602],\n",
       "        [ 0.2782],\n",
       "        [ 0.1124],\n",
       "        [-0.0359]])"
      ]
     },
     "execution_count": 36,
     "metadata": {},
     "output_type": "execute_result"
    }
   ],
   "source": [
    "torch.nn.init.xavier_uniform_(wNeu)"
   ]
  },
  {
   "cell_type": "code",
   "execution_count": 37,
   "metadata": {},
   "outputs": [],
   "source": [
    "(wNeu, wNeuBias) = wNeu.split(list(wNeu.size())[0]-1, dim=0)"
   ]
  },
  {
   "cell_type": "code",
   "execution_count": 38,
   "metadata": {},
   "outputs": [
    {
     "name": "stdout",
     "output_type": "stream",
     "text": [
      "torch.Size([32, 1])\n",
      "torch.Size([1, 1])\n"
     ]
    }
   ],
   "source": [
    "print(wNeu.size())\n",
    "print(wNeuBias.size())"
   ]
  },
  {
   "cell_type": "code",
   "execution_count": 39,
   "metadata": {},
   "outputs": [
    {
     "data": {
      "text/plain": [
       "torch.Size([1, 1])"
      ]
     },
     "execution_count": 39,
     "metadata": {},
     "output_type": "execute_result"
    }
   ],
   "source": [
    "wNeuBias.size()"
   ]
  },
  {
   "cell_type": "code",
   "execution_count": 41,
   "metadata": {},
   "outputs": [],
   "source": [
    "import os\n",
    "import time\n",
    "import datetime\n",
    "\n",
    "import torch\n",
    "import random\n",
    "import argparse\n",
    "import numpy as np\n",
    "import pandas as pd\n",
    "import torch.nn.functional as F\n",
    "\n",
    "from sklearn import metrics\n",
    "from utils import logsampler, sqrtsampler, datasets, dataset_loader, test_dataset_loader\n",
    "from network import ConvNet, ConvNet_test\n",
    "\n",
    " \n",
    "def createFolder(directory):\n",
    "    try:\n",
    "        if not os.path.exists(directory):\n",
    "            os.makedirs(directory)\n",
    "    except OSError:\n",
    "        print ('Error: Creating directory. ' +  directory)"
   ]
  },
  {
   "cell_type": "code",
   "execution_count": 42,
   "metadata": {},
   "outputs": [],
   "source": [
    "path = './data/encode/'\n",
    "all_dataset_names = datasets(path)"
   ]
  },
  {
   "cell_type": "code",
   "execution_count": 43,
   "metadata": {},
   "outputs": [
    {
     "data": {
      "text/plain": [
       "[['./data/encode/ARID3A_K562_ARID3A_(sc-8821)_Stanford_AC.seq.gz',\n",
       "  './data/encode/ARID3A_K562_ARID3A_(sc-8821)_Stanford_B.seq.gz'],\n",
       " ['./data/encode/CTCFL_K562_CTCFL_(SC-98982)_HudsonAlpha_AC.seq.gz',\n",
       "  './data/encode/CTCFL_K562_CTCFL_(SC-98982)_HudsonAlpha_B.seq.gz'],\n",
       " ['./data/encode/ELK1_GM12878_ELK1_(1277-1)_Stanford_AC.seq.gz',\n",
       "  './data/encode/ELK1_GM12878_ELK1_(1277-1)_Stanford_B.seq.gz'],\n",
       " ['./data/encode/FOXA1_HepG2_FOXA1_(SC-101058)_HudsonAlpha_AC.seq.gz',\n",
       "  './data/encode/FOXA1_HepG2_FOXA1_(SC-101058)_HudsonAlpha_B.seq.gz'],\n",
       " ['./data/encode/GABPA_GM12878_GABP_HudsonAlpha_AC.seq.gz',\n",
       "  './data/encode/GABPA_GM12878_GABP_HudsonAlpha_B.seq.gz'],\n",
       " ['./data/encode/MYC_H1-hESC_c-Myc_Stanford_AC.seq.gz',\n",
       "  './data/encode/MYC_H1-hESC_c-Myc_Stanford_B.seq.gz'],\n",
       " ['./data/encode/REST_GM12878_NRSF_HudsonAlpha_AC.seq.gz',\n",
       "  './data/encode/REST_GM12878_NRSF_HudsonAlpha_B.seq.gz'],\n",
       " ['./data/encode/SP1_GM12878_SP1_HudsonAlpha_AC.seq.gz',\n",
       "  './data/encode/SP1_GM12878_SP1_HudsonAlpha_B.seq.gz'],\n",
       " ['./data/encode/USF1_HepG2_USF-1_HudsonAlpha_AC.seq.gz',\n",
       "  './data/encode/USF1_HepG2_USF-1_HudsonAlpha_B.seq.gz'],\n",
       " ['./data/encode/ZBTB7A_HepG2_ZBTB7A_(SC-34508)_HudsonAlpha_AC.seq.gz',\n",
       "  './data/encode/ZBTB7A_HepG2_ZBTB7A_(SC-34508)_HudsonAlpha_B.seq.gz']]"
      ]
     },
     "execution_count": 43,
     "metadata": {},
     "output_type": "execute_result"
    }
   ],
   "source": [
    "all_dataset_names"
   ]
  },
  {
   "cell_type": "code",
   "execution_count": 46,
   "metadata": {},
   "outputs": [],
   "source": [
    "for i in range(len(all_dataset_names)):\n",
    "    dataset_name = all_dataset_names[i]\n",
    "    train_dataset_path = dataset_name[0]\n",
    "    test_dataset_path = dataset_name[1]\n",
    "    name = train_dataset_path.split(path)[1].split(\"_AC\")[0]\n",
    "    createFolder('./Models/'+name)    "
   ]
  },
  {
   "cell_type": "code",
   "execution_count": 47,
   "metadata": {},
   "outputs": [],
   "source": [
    "f = 0.001"
   ]
  },
  {
   "cell_type": "code",
   "execution_count": 49,
   "metadata": {},
   "outputs": [
    {
     "name": "stdout",
     "output_type": "stream",
     "text": [
      "0.001\n"
     ]
    }
   ],
   "source": [
    "print(str(round(f, 6)))"
   ]
  },
  {
   "cell_type": "code",
   "execution_count": 3,
   "metadata": {},
   "outputs": [
    {
     "name": "stdout",
     "output_type": "stream",
     "text": [
      "1\n"
     ]
    }
   ],
   "source": [
    "for i in range(1):\n",
    "    print(str(i+1))"
   ]
  },
  {
   "cell_type": "code",
   "execution_count": null,
   "metadata": {},
   "outputs": [],
   "source": []
  }
 ],
 "metadata": {
  "interpreter": {
   "hash": "84c63b404c7ee130c9845246a39403d500621500816a8f9744527cdc65d245ba"
  },
  "kernelspec": {
   "display_name": "Python 3.8.12 ('DeepBind': conda)",
   "language": "python",
   "name": "python3"
  },
  "language_info": {
   "codemirror_mode": {
    "name": "ipython",
    "version": 3
   },
   "file_extension": ".py",
   "mimetype": "text/x-python",
   "name": "python",
   "nbconvert_exporter": "python",
   "pygments_lexer": "ipython3",
   "version": "3.8.12"
  },
  "orig_nbformat": 4
 },
 "nbformat": 4,
 "nbformat_minor": 2
}
