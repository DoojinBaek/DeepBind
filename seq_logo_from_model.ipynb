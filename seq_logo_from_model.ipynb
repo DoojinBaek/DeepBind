{
 "cells": [
  {
   "cell_type": "code",
   "execution_count": 1,
   "metadata": {},
   "outputs": [],
   "source": [
    "import torch\n",
    "import numpy as np\n",
    "import pandas as pd\n",
    "import logomaker as lm\n",
    "\n",
    "from utils import datasets\n",
    "from seqlogo_utils import retification_results"
   ]
  },
  {
   "cell_type": "code",
   "execution_count": 2,
   "metadata": {},
   "outputs": [],
   "source": [
    "# Settings \n",
    "\n",
    "motif_len = 24\n",
    "reverse_mode = False\n",
    "device = torch.device('cuda:0' if torch.cuda.is_available() else 'cpu')\n",
    "\n",
    "# dataset\n",
    "path = './data/encode/'\n",
    "dataset_names = datasets(path)\n",
    "dataset = dataset_names[1][2]\n",
    "name = dataset_names[0][2]\n",
    "name = name.split(path)[1].split(\"_AC\")[0]\n",
    "\n",
    "# which motif detector\n",
    "motif_idx = 0 # 0 ~ 15"
   ]
  },
  {
   "cell_type": "code",
   "execution_count": 3,
   "metadata": {},
   "outputs": [],
   "source": [
    "# rectification results\n",
    "seq, seq_data, rect = retification_results(name, dataset, device, reverse_mode)"
   ]
  },
  {
   "cell_type": "code",
   "execution_count": 4,
   "metadata": {},
   "outputs": [],
   "source": [
    "i = 0 # which data : 1 ~ 1000\n",
    "k = 0 # motif_detector number\n",
    "rect[i][k] # Y_ik \n",
    "\n",
    "zero_seq = []\n",
    "\n",
    "for i in range(len(seq_data)):\n",
    "    for k in range(16):\n",
    "        if(np.argmax(rect[i][k].cpu().numpy()) <= 0):\n",
    "            zero_seq.extend([[i, k]])\n",
    "\n",
    "# print(len(zero_seq))\n",
    "\n",
    "net_seq = []\n",
    "\n",
    "for i in range(len(seq_data)):\n",
    "    for k in range(16):\n",
    "        if([i,k] not in zero_seq):\n",
    "            net_seq.extend([[i, k]])\n",
    "\n",
    "# print(len(net_seq))"
   ]
  },
  {
   "cell_type": "code",
   "execution_count": 5,
   "metadata": {},
   "outputs": [],
   "source": [
    "# argmax position of interest sequences (net sequence)\n",
    "\n",
    "argmax_position = []\n",
    "\n",
    "for i,k in net_seq:\n",
    "    if(k == motif_idx):\n",
    "        argmax_position.append(np.argmax(rect[i][k].cpu().numpy()))\n",
    "\n",
    "# print(len(argmax_position))\n",
    "# print(argmax_position)\n",
    "\n",
    "start_position = [sj - motif_len + 1 for sj in argmax_position]\n",
    "\n",
    "# print(len(start_position))\n",
    "# print(start_position)"
   ]
  },
  {
   "cell_type": "code",
   "execution_count": 6,
   "metadata": {},
   "outputs": [],
   "source": [
    "# finding possible binding site of motif_k of motif_len\n",
    "\n",
    "binding_site_seq = []\n",
    "\n",
    "for i in range(len(start_position)):\n",
    "    start = start_position[i]\n",
    "    end = argmax_position[i]\n",
    "    seq_interest = seq[i][0]\n",
    "    start_padding = 0\n",
    "    end_padding = 0\n",
    "\n",
    "    if start < 0:\n",
    "        start_padding = 0-start\n",
    "        start = 0\n",
    "    if end > 100:\n",
    "        end_padding = end-100\n",
    "        end = 100\n",
    "    \n",
    "    binding_site_seq.append('N'*start_padding + seq_interest[start:end+1] + 'N'*end_padding) # 'N' for not defined -> must not be counted!\n",
    "\n",
    "# motif length testing\n",
    "for i in range(len(binding_site_seq)):\n",
    "    if(len(binding_site_seq[i]) != 24):\n",
    "        print(i)"
   ]
  },
  {
   "cell_type": "code",
   "execution_count": 7,
   "metadata": {},
   "outputs": [],
   "source": [
    "# Computing PFM and PPM\n",
    "\n",
    "pfm = np.zeros((4, len(binding_site_seq[0]))) # A C G T -> 4 by len(data[0])\n",
    "not_defined = 0\n",
    "\n",
    "for i in range(len(binding_site_seq)):\n",
    "    for j in range(len(binding_site_seq[0])):\n",
    "        if binding_site_seq[i][j] == 'A':\n",
    "            pfm[0][j] = pfm[0][j] + 1\n",
    "        elif binding_site_seq[i][j] == 'C':\n",
    "            pfm[1][j] = pfm[1][j] + 1\n",
    "        elif binding_site_seq[i][j] == 'G':\n",
    "            pfm[2][j] = pfm[2][j] + 1\n",
    "        elif binding_site_seq[i][j] == 'T':\n",
    "            pfm[3][j] = pfm[3][j] + 1\n",
    "        else:\n",
    "            # print(\"!\")\n",
    "            not_defined = not_defined + 1\n",
    "\n",
    "# print(not_defined)\n",
    "\n",
    "count = 0\n",
    "\n",
    "for i in range(len(binding_site_seq)):\n",
    "    count = count + binding_site_seq[i].count('N')\n",
    "\n",
    "# print(count)\n",
    "\n",
    "if(count != not_defined):\n",
    "    raise Exception(\"Sequence Data Corrputed\")\n",
    "\n",
    "ppm = pfm/len(binding_site_seq)\n",
    "\n",
    "# zero value checking\n",
    "for i in range(len(ppm)):\n",
    "    for j in range(len(ppm[0])):\n",
    "        if (ppm[i][j] == 0):\n",
    "            print(\"?\")"
   ]
  },
  {
   "cell_type": "code",
   "execution_count": 8,
   "metadata": {},
   "outputs": [],
   "source": [
    "# Calculating Information(bits)\n",
    "\n",
    "information = np.zeros(len(ppm[0]))\n",
    "\n",
    "for j in range(len(information)):\n",
    "    entropy_j = 0\n",
    "    for i in range(4):\n",
    "        entropy_j = entropy_j + ppm[i][j] * np.log2(ppm[i][j])\n",
    "    information[j] = 2 + entropy_j\n",
    "\n",
    "# print(information)"
   ]
  },
  {
   "cell_type": "code",
   "execution_count": 9,
   "metadata": {},
   "outputs": [],
   "source": [
    "# generating an array of logo lengths and corresponding dataframe\n",
    "\n",
    "seq_logo = np.zeros((4, len(binding_site_seq[0])))\n",
    "\n",
    "for i in range(len(seq_logo)):\n",
    "    for j in range(len(seq_logo[0])):\n",
    "        seq_logo[i][j] = ppm[i][j] * information[j]\n",
    "\n",
    "seq_logo_mat = pd.DataFrame(np.transpose(seq_logo), columns=['A', 'C', 'G', 'T'])"
   ]
  },
  {
   "cell_type": "code",
   "execution_count": 10,
   "metadata": {},
   "outputs": [
    {
     "data": {
      "text/plain": [
       "<logomaker.src.Logo.Logo at 0x7fe5717d1d30>"
      ]
     },
     "execution_count": 10,
     "metadata": {},
     "output_type": "execute_result"
    },
    {
     "data": {
      "image/png": "[encoded data removed]",
      "text/plain": [
       "<Figure size 720x180 with 1 Axes>"
      ]
     },
     "metadata": {
      "needs_background": "light"
     },
     "output_type": "display_data"
    }
   ],
   "source": [
    "# Sequence Logo Plotting\n",
    "\n",
    "lm.Logo(seq_logo_mat)"
   ]
  },
  {
   "cell_type": "code",
   "execution_count": null,
   "metadata": {},
   "outputs": [],
   "source": []
  }
 ],
 "metadata": {
  "interpreter": {
   "hash": "84c63b404c7ee130c9845246a39403d500621500816a8f9744527cdc65d245ba"
  },
  "kernelspec": {
   "display_name": "Python 3.8.12 ('DeepBind': conda)",
   "language": "python",
   "name": "python3"
  },
  "language_info": {
   "codemirror_mode": {
    "name": "ipython",
    "version": 3
   },
   "file_extension": ".py",
   "mimetype": "text/x-python",
   "name": "python",
   "nbconvert_exporter": "python",
   "pygments_lexer": "ipython3",
   "version": "3.8.12"
  },
  "orig_nbformat": 4
 },
 "nbformat": 4,
 "nbformat_minor": 2
}
