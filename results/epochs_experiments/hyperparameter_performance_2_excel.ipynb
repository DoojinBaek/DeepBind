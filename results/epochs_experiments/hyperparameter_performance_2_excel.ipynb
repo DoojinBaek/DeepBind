{
 "cells": [
  {
   "cell_type": "code",
   "execution_count": 1,
   "metadata": {},
   "outputs": [],
   "source": [
    "import os\n",
    "import pandas as pd\n",
    "import matplotlib.pyplot as plt"
   ]
  },
  {
   "cell_type": "code",
   "execution_count": 2,
   "metadata": {},
   "outputs": [
    {
     "name": "stdout",
     "output_type": "stream",
     "text": [
      "['ARID3A_K562_ARID3A_(sc-8821)_Stanford-0.txt', 'CTCFL_K562_CTCFL_(SC-98982)_HudsonAlpha-0.txt', 'ELK1_GM12878_ELK1_(1277-1)_Stanford-0.txt', 'FOXA1_HepG2_FOXA1_(SC-101058)_HudsonAlpha-0.txt', 'GABPA_GM12878_GABP_HudsonAlpha-0.txt', 'MYC_H1-hESC_c-Myc_Stanford-0.txt', 'REST_GM12878_NRSF_HudsonAlpha-0.txt', 'SP1_GM12878_SP1_HudsonAlpha-0.txt', 'USF1_HepG2_USF-1_HudsonAlpha-0.txt', 'ZBTB7A_HepG2_ZBTB7A_(SC-34508)_HudsonAlpha-0.txt']\n"
     ]
    }
   ],
   "source": [
    "path = \"./\"\n",
    "res_list = os.listdir(path)\n",
    "res_list = [res for res in res_list if res.endswith(\".txt\")]\n",
    "res_list.sort()\n",
    "print(res_list)"
   ]
  },
  {
   "cell_type": "code",
   "execution_count": 3,
   "metadata": {},
   "outputs": [
    {
     "name": "stdout",
     "output_type": "stream",
     "text": [
      "ARID3A\n",
      "CTCFL\n",
      "ELK1\n",
      "FOXA1\n",
      "GABPA\n",
      "MYC\n",
      "REST\n",
      "SP1\n",
      "USF1\n",
      "ZBTB7A\n"
     ]
    }
   ],
   "source": [
    "with pd.ExcelWriter('hyperparameter-performance.xlsx') as writer:\n",
    "    for res_idx in range(len(res_list)):\n",
    "        auc_over_epoch = []\n",
    "        validation_auc = []\n",
    "        test__auc = []\n",
    "\n",
    "        hyp = []\n",
    "        name = res_list[res_idx].split('_')[0]\n",
    "        print(name)\n",
    "\n",
    "        file = open(res_list[res_idx], 'r')\n",
    "        while True:\n",
    "            line = file.readline()\n",
    "            if not line: break\n",
    "            elif 'Train AUC over epochs' in line:\n",
    "                auc_over_epoch.append(line)\n",
    "            elif 'Best Trainig(validation) AUC' in line:\n",
    "                validation_auc.append(line)\n",
    "            elif 'AUC Test' in line:\n",
    "                test__auc.append(line)\n",
    "            elif 'pool' in line:\n",
    "                hyp.append(line)\n",
    "        file.close()\n",
    "\n",
    "        if(len(auc_over_epoch) == 144):\n",
    "        # some experiments are not done yet\n",
    "\n",
    "            # plot AUC-epoch graphs\n",
    "            for id in range(len(auc_over_epoch)): # id : 1~144\n",
    "\n",
    "                data = auc_over_epoch[id].split(',')[:-1]\n",
    "                train = []\n",
    "                valid = []\n",
    "\n",
    "                for i in range(len(data)):\n",
    "                    train.append(float(data[i].split(':')[-2:][0]))\n",
    "                    valid.append(float(data[i].split(':')[-2:][1]))\n",
    "\n",
    "                isExist = os.path.exists('./' + name + '/')\n",
    "                if not isExist:\n",
    "                    os.makedirs('./' + name + '/')\n",
    "                \n",
    "                plt.plot(train, label='Train')\n",
    "                plt.plot(valid, label='Validation')\n",
    "                plt.legend()\n",
    "                plt.xlabel('epochs')\n",
    "                plt.ylabel('AUC')\n",
    "                # plt.axis([0, 300, 0.8, 1.0])\n",
    "                plt.savefig('./' + name + '/' + str(id+1) + '.png', dpi=300)\n",
    "                plt.close()\n",
    "\n",
    "            df = pd.DataFrame(columns=['hyperparameters', 'AUC_Train', 'AUC_Test'])\n",
    "\n",
    "            for idx in range(len(validation_auc)):\n",
    "                train = float(validation_auc[idx].split('\\t')[0].split(':')[-1].split('at')[0])\n",
    "                test = float(test__auc[idx].split('\\t')[0].split(':')[-1])\n",
    "                hyperparameters = hyp[idx].split('\\n')[0]\n",
    "                \n",
    "                df.loc[idx] = [hyperparameters, train, test]\n",
    "            \n",
    "            df.to_excel(writer, sheet_name=name, index=False)\n",
    "\n",
    "        else:\n",
    "            print(name, 'is not done yet')"
   ]
  },
  {
   "cell_type": "code",
   "execution_count": null,
   "metadata": {},
   "outputs": [],
   "source": []
  }
 ],
 "metadata": {
  "interpreter": {
   "hash": "84c63b404c7ee130c9845246a39403d500621500816a8f9744527cdc65d245ba"
  },
  "kernelspec": {
   "display_name": "Python 3.8.12 ('DeepBind': conda)",
   "language": "python",
   "name": "python3"
  },
  "language_info": {
   "codemirror_mode": {
    "name": "ipython",
    "version": 3
   },
   "file_extension": ".py",
   "mimetype": "text/x-python",
   "name": "python",
   "nbconvert_exporter": "python",
   "pygments_lexer": "ipython3",
   "version": "3.8.12"
  },
  "orig_nbformat": 4
 },
 "nbformat": 4,
 "nbformat_minor": 2
}
