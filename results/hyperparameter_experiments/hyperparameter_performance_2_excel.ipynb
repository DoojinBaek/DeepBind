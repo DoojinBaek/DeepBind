{
 "cells": [
  {
   "cell_type": "code",
   "execution_count": 1,
   "metadata": {},
   "outputs": [],
   "source": [
    "import os\n",
    "import pandas as pd"
   ]
  },
  {
   "cell_type": "code",
   "execution_count": 2,
   "metadata": {},
   "outputs": [
    {
     "name": "stdout",
     "output_type": "stream",
     "text": [
      "['ARID3A_K562_ARID3A_(sc-8821)_Stanford.txt', 'CTCFL_K562_CTCFL_(SC-98982)_HudsonAlpha.txt', 'ELK1_GM12878_ELK1_(1277-1)_Stanford.txt', 'FOXA1_HepG2_FOXA1_(SC-101058)_HudsonAlpha.txt', 'GABPA_GM12878_GABP_HudsonAlpha.txt', 'MYC_H1-hESC_c-Myc_Stanford.txt', 'REST_GM12878_NRSF_HudsonAlpha.txt', 'SP1_GM12878_SP1_HudsonAlpha.txt', 'USF1_HepG2_USF-1_HudsonAlpha.txt', 'ZBTB7A_HepG2_ZBTB7A_(SC-34508)_HudsonAlpha.txt']\n"
     ]
    }
   ],
   "source": [
    "path = \"./\"\n",
    "res_list = os.listdir(path)\n",
    "res_list = [res for res in res_list if res.endswith(\".txt\")]\n",
    "res_list.sort()\n",
    "print(res_list)"
   ]
  },
  {
   "cell_type": "code",
   "execution_count": 3,
   "metadata": {},
   "outputs": [],
   "source": [
    "with pd.ExcelWriter('hyperparameter-performance.xlsx') as writer:\n",
    "    for res_idx in range(len(res_list)):\n",
    "        res = []\n",
    "        hyp = []\n",
    "        name = res_list[res_idx].split('_')[0]\n",
    "\n",
    "        file = open(res_list[res_idx], 'r')\n",
    "        while True:\n",
    "            line = file.readline()\n",
    "            if not line: break\n",
    "            elif 'AUC' in line:\n",
    "                res.append(line)\n",
    "            elif 'pool' in line:\n",
    "                hyp.append(line)\n",
    "        file.close()\n",
    "\n",
    "        df = pd.DataFrame(columns=['hyperparameters', 'AUC_Train', 'AUC_Test'])\n",
    "\n",
    "        for idx in range(len(res)):\n",
    "            train = float(res[idx].split('\\t')[0].split(':')[-1])\n",
    "            test = float(res[idx].split('\\t')[1].split(':')[-1])\n",
    "            hyperparameters = hyp[idx].split('\\n')[0]\n",
    "\n",
    "            df.loc[idx] = [hyperparameters, train, test]\n",
    "        \n",
    "        df.to_excel(writer, sheet_name=name, index=False)"
   ]
  },
  {
   "cell_type": "code",
   "execution_count": null,
   "metadata": {},
   "outputs": [],
   "source": []
  }
 ],
 "metadata": {
  "interpreter": {
   "hash": "84c63b404c7ee130c9845246a39403d500621500816a8f9744527cdc65d245ba"
  },
  "kernelspec": {
   "display_name": "Python 3.8.12 ('DeepBind': conda)",
   "language": "python",
   "name": "python3"
  },
  "language_info": {
   "codemirror_mode": {
    "name": "ipython",
    "version": 3
   },
   "file_extension": ".py",
   "mimetype": "text/x-python",
   "name": "python",
   "nbconvert_exporter": "python",
   "pygments_lexer": "ipython3",
   "version": "3.8.12"
  },
  "orig_nbformat": 4
 },
 "nbformat": 4,
 "nbformat_minor": 2
}
